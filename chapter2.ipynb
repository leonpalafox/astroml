{
 "metadata": {
  "name": "chapter2.ipynb",
  "signature": "sha256:77575242817fd6933ecf1d20745e8ef11393a3964e28d46a8a2656feebb3532d"
 },
 "nbformat": 3,
 "nbformat_minor": 0,
 "worksheets": [
  {
   "cells": [
    {
     "cell_type": "heading",
     "level": 1,
     "metadata": {},
     "source": [
      "Chapter 3: More Probability Distributions"
     ]
    },
    {
     "cell_type": "code",
     "collapsed": false,
     "input": [],
     "language": "python",
     "metadata": {},
     "outputs": []
    },
    {
     "cell_type": "heading",
     "level": 3,
     "metadata": {},
     "source": [
      "Student-t:"
     ]
    },
    {
     "cell_type": "markdown",
     "metadata": {},
     "source": [
      "In contrast with the Normal distribution, which is targetted to full populations, we can use the t distribution for smaller samples, where we do not know the standard deviation. \n",
      "\n",
      "In the bayesian settings, it just so happen that the posterior probability of a function with normal likelihood is often a t -distribution.\n",
      "\n",
      "To remember a bit about bayesian inference:\n",
      "\n",
      "$p(x)=\\int p(x|y)p(y)$\n",
      "\n",
      "\n",
      "$p(x|y) = \\mathcal{N}(x|\\mu, \\tau^{-1})$\n",
      "\n",
      "\n",
      "$p(y) = Gam(\\tau|a,b)$\n",
      "\n",
      "The resulting marginal distribution is a Stuent-t distribution, so we can think of it as a sum of normal distributions for an infinite number of variances.\n",
      "\n",
      "Some plots on the Student-t distribution\n",
      "    \n"
     ]
    },
    {
     "cell_type": "code",
     "collapsed": false,
     "input": [
      "import numpy as np\n",
      "from scipy.stats import t as student_t\n",
      "from matplotlib import pyplot as plt\n",
      "\n",
      "#----------------------------------------------------------------------\n",
      "# This function adjusts matplotlib settings for a uniform feel in the textbook.\n",
      "# Note that with usetex=True, fonts are rendered with LaTeX.  This may\n",
      "# result in an error if LaTeX is not installed on your system.  In that case,\n",
      "# you can set usetex to False.\n",
      "from astroML.plotting import setup_text_plots\n",
      "setup_text_plots(fontsize=8, usetex=True)\n",
      "\n",
      "#------------------------------------------------------------\n",
      "# Define the distribution parameters to be plotted\n",
      "mu = 0\n",
      "k_values = [1E10, 2, 1, 0.5]\n",
      "linestyles = ['-', '--', ':', '-.']\n",
      "x = np.linspace(-10, 10, 1000)\n",
      "\n",
      "#------------------------------------------------------------\n",
      "# plot the distributions\n",
      "fig, ax = plt.subplots(figsize=(5, 3.75))\n",
      "\n",
      "for k, ls in zip(k_values, linestyles):\n",
      "    dist = student_t(k, 0)\n",
      "\n",
      "    if k >= 1E10:\n",
      "        label = r'$\\mathrm{t}(k=\\infty)$'\n",
      "    else:\n",
      "        label = r'$\\mathrm{t}(k=%.1f)$' % k\n",
      "\n",
      "    plt.plot(x, dist.pdf(x), ls=ls, c='black', label=label)\n",
      "\n",
      "plt.xlim(-5, 5)\n",
      "plt.ylim(0.0, 0.45)\n",
      "\n",
      "plt.xlabel('$x$')\n",
      "plt.ylabel(r'$p(x|k)$')\n",
      "plt.title(\"Student's $t$ Distribution\")\n",
      "\n",
      "plt.legend()\n",
      "\n",
      "plt.show()"
     ],
     "language": "python",
     "metadata": {},
     "outputs": [
      {
       "metadata": {},
       "output_type": "display_data",
       "png": "[encoded data removed]",
       "text": [
        "<matplotlib.figure.Figure at 0xa981dd8>"
       ]
      }
     ],
     "prompt_number": 2
    },
    {
     "cell_type": "markdown",
     "metadata": {},
     "source": [
      "Stats Terminology:\n",
      "\n",
      "* set of individual measurements: $x_i$ (where i, . . . ,N)\n",
      "  \n",
      "* *True Distribution*\n",
      "  \n",
      "    $h(x)$ - function that generates x  \n",
      "    $h(x)dx\\equiv$ probability distribution function (population pdf)\n",
      "\n",
      "    $H(x)=\\int_{-\\infty}^{x}h(x')dx'$ cumulative distribution function\n",
      "    \n",
      "\n",
      "* *Empirical Distribution*\n",
      "  \n",
      "    $f(x)$ - function that generates x  \n",
      "    $f(x)dx\\equiv$ empirical probability distribution function (empirical pdf)\n",
      "    \n",
      "    $F(x)=\\int_{-\\infty}^{x}h(x')dx'$ cumulative empirical distribution function\n",
      "\n",
      "    (Normalized such that $H(\\infty)=F(\\infty)=1$)\n",
      "\n",
      "\n",
      "* Since data sets are never infinitely large (and well sampled) $f(x)\\neq h(x)$:\n",
      "\n",
      "    $f(x)$ is a *model* of $h(x)$"
     ]
    },
    {
     "cell_type": "markdown",
     "metadata": {},
     "source": [
      "* Errors (associated with measurement $x_i$)\n",
      "\n",
      "    $e(x)=p(x|\\mu,I)$ - $\\mu$: true value, $I$: describes the error distribution\n",
      "    \n",
      "    for a gaussian:\n",
      "    \n",
      "    $p(x|\\mu,\\sigma)=\\frac{1}{\\sigma\\sqrt{2\\pi}}\\exp{\\left(\\frac{-(x-\\mu)^2}{2\\sigma^2}\\right)}$\n",
      "    \n",
      "    \n",
      "* Ramble about broad $f(x)$:\n",
      "\n",
      "    could be due to errors (larger sample will lead to better derivation of $h(x)$), or it could be due to broad h(x)"
     ]
    },
    {
     "cell_type": "heading",
     "level": 3,
     "metadata": {},
     "source": [
      "Data used in the text:"
     ]
    },
    {
     "cell_type": "markdown",
     "metadata": {},
     "source": [
      "AstroML has \"fetching functions\" to download all of the datasets. To see a list in an iPython terminal one could type:\n",
      "\n",
      "ln [ ]: from astroML.datasets import [TAB]\n",
      "\n",
      "and it would list options (in an ipython notebook this comes up as a scrolling list)\n",
      "\n",
      "* SDSS:\n",
      "    * SDSS imaging (p.16)\n",
      "        \n",
      "    examples from the text (fetching the imaging data for 330753 objects)"
     ]
    },
    {
     "cell_type": "heading",
     "level": 4,
     "metadata": {},
     "source": [
      "I'm going to start writing code, so I'll include the following command so plots show up in the window:"
     ]
    },
    {
     "cell_type": "code",
     "collapsed": false,
     "input": [
      "%matplotlib inline"
     ],
     "language": "python",
     "metadata": {},
     "outputs": [],
     "prompt_number": 12
    },
    {
     "cell_type": "code",
     "collapsed": false,
     "input": [
      "from astroML.datasets import fetch_imaging_sample\n",
      "data = fetch_imaging_sample()\n",
      "\n",
      "# determine the shape (size) of the downloaded data\n",
      "data.shape"
     ],
     "language": "python",
     "metadata": {},
     "outputs": [
      {
       "metadata": {},
       "output_type": "pyout",
       "prompt_number": 13,
       "text": [
        "(330753,)"
       ]
      }
     ],
     "prompt_number": 13
    },
    {
     "cell_type": "code",
     "collapsed": false,
     "input": [
      "# The code below finds the tags and prints the first five positions (RA,Dec)\n",
      "print data.dtype.names\n",
      "print data['ra'][:5], data['dec'][:5]"
     ],
     "language": "python",
     "metadata": {},
     "outputs": [
      {
       "output_type": "stream",
       "stream": "stdout",
       "text": [
        "('ra', 'dec', 'run', 'rExtSFD', 'uRaw', 'gRaw', 'rRaw', 'iRaw', 'zRaw', 'uErr', 'gErr', 'rErr', 'iErr', 'zErr', 'uRawPSF', 'gRawPSF', 'rRawPSF', 'iRawPSF', 'zRawPSF', 'upsfErr', 'gpsfErr', 'rpsfErr', 'ipsfErr', 'zpsfErr', 'type', 'ISOLATED')\n",
        "[ 0.358174  0.358382  0.357898  0.35791   0.358881] [-0.508718 -0.551157 -0.570892 -0.426526 -0.505625]\n"
       ]
      }
     ],
     "prompt_number": 15
    },
    {
     "cell_type": "markdown",
     "metadata": {},
     "source": [
      "__SDSS Spectroscopy:__ (p.19)\n",
      "        \n",
      "   **from astroML.datasets import fetch_sdss_spectrum**\n",
      "        \n",
      "- Galaxies (p.21)\n",
      "        \n",
      "   **from astroML.datasets import fetch_sdss_specgals**\n",
      "\n",
      "\n",
      "- DR7 Quasar Catalog (p.23)\n",
      "        \n",
      "   **from astroML.datasets import fetch_dr7_quasar**\n",
      "\n",
      "\n",
      "- SEGUE stellar parameters pipeline (SSPP) (p.25)\n",
      "        \n",
      "   **from astroML.datasets import fetch_sdss_sspp**\n",
      "\n",
      "\n",
      "- SDSS standard stars from STRIPE 82 (p.26)\n",
      "        \n",
      "   **from astroML.datasets import fetch_sdss_S82standards**\n",
      "\n",
      "\n",
      "- SDSS moving object catalog (p.30)\n",
      "\n",
      "   **from astroML.datasets import fetch_moving_objects**\n",
      "   \n",
      "   \n",
      "__LINEAR stellar light curves:__ (p.27)\n",
      "\n",
      "   **from astroML.datasets import fetch_LINEAR_sample**"
     ]
    },
    {
     "cell_type": "heading",
     "level": 3,
     "metadata": {},
     "source": [
      "Plotting"
     ]
    },
    {
     "cell_type": "markdown",
     "metadata": {},
     "source": [
      "- Tufte book (Visual Display of Quantatative Information) **I have a copy - come look at it if you haven't seen it before!**\n",
      "    - many #s in small space\n",
      "    - make large datasets coherent\n",
      "    - reveal the data at several levels of detail\n",
      "    - encourage the eye to compare different pieces of data\n",
      "    \n",
      "- 2D plotting:\n",
      "    - easiest, but can be difficult with LARGE datasets (in dense spaces)\n",
      "\n",
      "- 3+D plotting:\n",
      "    - can use colors/density contours or possibly find helpful projections\n",
      "    - Spherical projections: in Matplotlib, HEALpix (Hierarchical Equal Area isoLatitude Pixelization)"
     ]
    },
    {
     "cell_type": "code",
     "collapsed": false,
     "input": [
      "# Partially I'm including these to demonstrate that you can simply pull examples from the textbook using the URLs!\n",
      "\n",
      "from IPython.display import Image\n",
      "from IPython.display import display\n",
      "\n",
      "simple_plot = Image(url='http://www.astroml.org/_images/fig_sdss_S82standards_1.png',width=300)\n",
      "contour_plot = Image(url='http://www.astroml.org/_images/fig_S82_scatter_contour_1.png',width=300)\n",
      "hist_plot = Image(url='http://www.astroml.org/_images/fig_S82_hess_1.png',width=300)\n",
      "\n",
      "display(simple_plot,contour_plot,hist_plot)"
     ],
     "language": "python",
     "metadata": {},
     "outputs": [
      {
       "html": [
        "<img src=\"http://www.astroml.org/_images/fig_sdss_S82standards_1.png\" width=\"300\"/>"
       ],
       "metadata": {},
       "output_type": "display_data",
       "text": [
        "<IPython.core.display.Image at 0x105c73f10>"
       ]
      },
      {
       "html": [
        "<img src=\"http://www.astroml.org/_images/fig_S82_scatter_contour_1.png\" width=\"300\"/>"
       ],
       "metadata": {},
       "output_type": "display_data",
       "text": [
        "<IPython.core.display.Image at 0x105ca6ed0>"
       ]
      },
      {
       "html": [
        "<img src=\"http://www.astroml.org/_images/fig_S82_hess_1.png\" width=\"300\"/>"
       ],
       "metadata": {},
       "output_type": "display_data",
       "text": [
        "<IPython.core.display.Image at 0x105ca6f50>"
       ]
      }
     ],
     "prompt_number": 36
    },
    {
     "cell_type": "code",
     "collapsed": false,
     "input": [],
     "language": "python",
     "metadata": {},
     "outputs": []
    }
   ],
   "metadata": {}
  }
 ]
}