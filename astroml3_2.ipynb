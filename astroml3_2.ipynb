{
 "metadata": {
  "name": "astroml3_2"
 },
 "nbformat": 3,
 "nbformat_minor": 0,
 "worksheets": [
  {
   "cells": [
    {
     "cell_type": "heading",
     "level": 1,
     "metadata": {},
     "source": "Chapter 3: More Probability Distributions"
    },
    {
     "cell_type": "heading",
     "level": 2,
     "metadata": {},
     "source": "Student-t:"
    },
    {
     "cell_type": "markdown",
     "metadata": {},
     "source": "In contrast with the Normal distribution, which is targetted to full populations, we can use the t distribution for smaller samples, where we do not know the standard deviation. \n\nIn the bayesian settings, it just so happen that the posterior probability of a function with normal likelihood is often a t -distribution.\n\nTo remember a bit about bayesian inference:\n\n$p(x)=\\int p(x|y)p(y)$\n\n\n$p(x|y) = \\mathcal{N}(x|\\mu, \\tau^{-1})$\n\n\n$p(y) = Gam(\\tau|a,b)$\n\nThe resulting marginal distribution is a Stuent-t distribution, so we can think of it as a sum of normal distributions for an infinite number of variances.\n\nSome plots on the Student-t distribution"
    },
    {
     "cell_type": "code",
     "collapsed": false,
     "input": "import numpy as np\nfrom scipy.stats import t as student_t\nfrom matplotlib import pyplot as plt\n\n#----------------------------------------------------------------------\n# This function adjusts matplotlib settings for a uniform feel in the textbook.\n# Note that with usetex=True, fonts are rendered with LaTeX.  This may\n# result in an error if LaTeX is not installed on your system.  In that case,\n# you can set usetex to False.\nfrom astroML.plotting import setup_text_plots\nsetup_text_plots(fontsize=8, usetex=True)\n\n#------------------------------------------------------------\n# Define the distribution parameters to be plotted\nmu = 0\nk_values = [1E10, 2, 1, 0.5]\nlinestyles = ['-', '--', ':', '-.']\nx = np.linspace(-10, 10, 1000)\n\n#------------------------------------------------------------\n# plot the distributions\nfig, ax = plt.subplots(figsize=(5, 3.75))\n\nfor k, ls in zip(k_values, linestyles):\n    dist = student_t(k, 0)\n\n    if k >= 1E10:\n        label = r'$\\mathrm{t}(k=\\infty)$'\n    else:\n        label = r'$\\mathrm{t}(k=%.1f)$' % k\n\n    plt.plot(x, dist.pdf(x), ls=ls, c='black', label=label)\n\nplt.xlim(-5, 5)\nplt.ylim(0.0, 0.45)\n\nplt.xlabel('$x$')\nplt.ylabel(r'$p(x|k)$')\nplt.title(\"Student's $t$ Distribution\")\n\nplt.legend()\n\nplt.show()",
     "language": "python",
     "metadata": {},
     "outputs": [],
     "prompt_number": 1
    },
    {
     "cell_type": "heading",
     "level": 2,
     "metadata": {},
     "source": "Fisher Distribution:"
    },
    {
     "cell_type": "markdown",
     "metadata": {},
     "source": "* Is frequently used as the Null distribution\n* The Null distribution is the probability of the Null Hypotesis, which evaluates the case when two phenomena have no relationship at all.\n* You can use it to run the F-Test."
    }
   ],
   "metadata": {}
  }
 ]
}